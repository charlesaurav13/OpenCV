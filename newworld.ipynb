{
  "nbformat": 4,
  "nbformat_minor": 0,
  "metadata": {
    "colab": {
      "name": "newworld.ipynb",
      "provenance": [],
      "mount_file_id": "1je-IFrDIKE3QlfPkuScU5cr9SuMmytlO",
      "authorship_tag": "ABX9TyPpfShodZzrI0ogGxbI0eVe",
      "include_colab_link": true
    },
    "kernelspec": {
      "name": "python3",
      "display_name": "Python 3"
    },
    "language_info": {
      "name": "python"
    }
  },
  "cells": [
    {
      "cell_type": "markdown",
      "metadata": {
        "id": "view-in-github",
        "colab_type": "text"
      },
      "source": [
        "<a href=\"https://colab.research.google.com/github/charlesaurav13/OpenCV/blob/master/newworld.ipynb\" target=\"_parent\"><img src=\"https://colab.research.google.com/assets/colab-badge.svg\" alt=\"Open In Colab\"/></a>"
      ]
    },
    {
      "cell_type": "code",
      "source": [
        "!pip install pynput"
      ],
      "metadata": {
        "id": "p795snd0GBgP"
      },
      "execution_count": null,
      "outputs": []
    },
    {
      "cell_type": "code",
      "source": [
        "import matplotlib.pyplot as plt\n",
        "import numpy as np\n",
        "from sklearn import datasets,linear_model\n",
        "from sklearn.metrics import mean_squared_error\n",
        "\n",
        "diabetes = datasets.load_diabetes()\n",
        "\n",
        "#['data', 'target', 'frame', 'DESCR', 'feature_names', 'data_filename', 'target_filename', 'data_module']\n",
        "#print(diabetes.keys())\n",
        "\n",
        "#print(diabetes.feature_names)\n",
        "\n",
        "\n",
        "diabetes_x = diabetes.data\n",
        "\n",
        "diabetes_x_train = diabetes_x[:-100]\n",
        "diabetes_x_test = diabetes_x[-10:]\n",
        "\n",
        "diabetes_y_train = diabetes.target[:-100]\n",
        "diabetes_y_test = diabetes.target[-10:]\n",
        "\n",
        "\n",
        "#training the model\n",
        "model = linear_model.LinearRegression()\n",
        "model.fit(diabetes_x_train,diabetes_y_train)\n",
        "\n",
        "#predicting the model\n",
        "diabetes_y_predicted = model.predict(diabetes_x_test)\n",
        "\n",
        "\n",
        "print(\"Square mean value error is :\",mean_squared_error(diabetes_y_test,diabetes_y_predicted))\n",
        "\n",
        "print(\"Weights : \",model.coef_)\n",
        "print(\"Intercept :\",model.intercept_)\n",
        "\n",
        "#plt.scatter(diabetes_x_test,diabetes_y_test)\n",
        "\n",
        "# plt.plot(diabetes_x_test,diabetes_y_predicted,\"r\")\n",
        "#plt.show()\n",
        "\n",
        "# Square mean value error is : 2509.9594853648337\n",
        "# Weights :  [953.3606272]\n",
        "# Intercept : 152.27671846254782\n",
        "\n",
        "\n",
        "\n",
        "# Square mean value error is : 1312.7383234246913\n",
        "# Weights :  [  -8.41868608 -246.87356823  515.48111342  302.57455473 -403.03503059\n",
        "#   160.72498918  -73.58961448  127.08804647  609.91854338   87.69439173]\n",
        "# Intercept : 152.09317068944523\n",
        "\n",
        "\n",
        "# Square mean value error is : 1940.2185117341742\n",
        "# Weights :  [  -8.41868608 -246.87356823  515.48111342  302.57455473 -403.03503059\n",
        "#   160.72498918  -73.58961448  127.08804647  609.91854338   87.69439173]\n",
        "# Intercept : 152.09317068944523"
      ],
      "metadata": {
        "id": "eyRoNhaHDGLi",
        "colab": {
          "base_uri": "https://localhost:8080/"
        },
        "outputId": "de146093-04bb-46da-8f37-9b51b8799797"
      },
      "execution_count": 22,
      "outputs": [
        {
          "output_type": "stream",
          "name": "stdout",
          "text": [
            "Square mean value error is : 1312.7383234246913\n",
            "Weights :  [  -8.41868608 -246.87356823  515.48111342  302.57455473 -403.03503059\n",
            "  160.72498918  -73.58961448  127.08804647  609.91854338   87.69439173]\n",
            "Intercept : 152.09317068944523\n"
          ]
        }
      ]
    }
  ]
}